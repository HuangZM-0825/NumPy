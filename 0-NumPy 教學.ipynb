{
 "cells": [
  {
   "cell_type": "markdown",
   "metadata": {},
   "source": [
    "##### NumPy 教學\n",
    "本篇文章彙整了一系列 NumPy 教學，只要按照教學文的順序閱讀和實作，就可以輕鬆入門 NumPy 並掌握 NumPy 的基本程式語法。\n",
    "\n",
    "##### 認識與安裝 NumPy \n",
    "下面這篇文章，會介紹什麼是 NumPy，以及如何安裝 NumPy。"
   ]
  },
  {
   "cell_type": "markdown",
   "metadata": {},
   "source": [
    "##### NumPy 建立和讀取陣列 \n",
    "下面這幾篇文章，會介紹 NumPy 裡陣列的基本觀念，以及建立陣列、讀取陣列的相關功能。\n",
    "\n",
    "* 資料型態\n",
    "* 建立陣列\n",
    "* 讀取陣列\n",
    "* 迭代陣列\n",
    "* 陣列項目賦值"
   ]
  },
  {
   "cell_type": "markdown",
   "metadata": {},
   "source": [
    "##### NumPy 陣列處理 \n",
    "下面這幾篇文章，會介紹如何透過 NumPy 進行陣列的修改、填充、分割、合併...等動作。\n",
    "\n",
    "* 修改陣列形狀\n",
    "* 修改陣列項目\n",
    "* 填充陣列\n",
    "* 分割陣列\n",
    "* 合併陣列\n",
    "* 陣列排序\n",
    "* 廣播\n",
    "* 搜尋陣列項目"
   ]
  },
  {
   "cell_type": "markdown",
   "metadata": {},
   "source": [
    "##### NumPy 其他功能 \n",
    "下面這幾篇文章，會介紹 NumPy 中其他處理陣列資料的好用功能和方法。\n",
    "\n",
    "* 算數計算\n",
    "* 數學函式\n",
    "* 隨機數\n",
    "* 字串操作處理"
   ]
  }
 ],
 "metadata": {
  "language_info": {
   "name": "python"
  }
 },
 "nbformat": 4,
 "nbformat_minor": 2
}
