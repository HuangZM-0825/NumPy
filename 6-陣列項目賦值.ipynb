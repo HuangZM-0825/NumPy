{
 "cells": [
  {
   "cell_type": "markdown",
   "metadata": {},
   "source": [
    "##### 陣列項目賦值\n",
    "除了在建立陣列提供陣列項目內容，也可以在建立陣列後，針對特定的項目賦值，這篇教學將會介紹 NumPy 裡陣列項目賦值的方法。"
   ]
  },
  {
   "cell_type": "markdown",
   "metadata": {},
   "source": [
    "##### 一般的賦值 \n",
    "一般的賦值就如同 Python 串列的賦值方式，只要知道項目在陣列中的位置，就能指定該項目的內容。"
   ]
  },
  {
   "cell_type": "code",
   "execution_count": null,
   "metadata": {},
   "outputs": [],
   "source": [
    "import numpy as np\n",
    "a = np.zeros((5,5))\n",
    "a[0][0] = 1\n",
    "a[1][1] = 2\n",
    "a[2][2] = 3\n",
    "a[3][3] = 4\n",
    "a[4][4] = 5\n",
    "print(a)\n",
    "'''\n",
    "  [[1. 0. 0. 0. 0.]\n",
    "   [0. 2. 0. 0. 0.]\n",
    "   [0. 0. 3. 0. 0.]\n",
    "   [0. 0. 0. 4. 0.]\n",
    "   [0. 0. 0. 0. 5.]]\n",
    "'''"
   ]
  },
  {
   "cell_type": "markdown",
   "metadata": {},
   "source": [
    "使用 NumPy 也能將上面的程式碼換成下方的寫法，會得到同樣的結果。"
   ]
  },
  {
   "cell_type": "code",
   "execution_count": null,
   "metadata": {},
   "outputs": [],
   "source": [
    "import numpy as np\n",
    "a = np.zeros((5,5))\n",
    "a[0,0] = 1\n",
    "a[1,1] = 2\n",
    "a[2,2] = 3\n",
    "a[3,3] = 4\n",
    "a[4,4] = 5\n",
    "print(a)\n",
    "'''\n",
    "  [[1. 0. 0. 0. 0.]\n",
    "   [0. 2. 0. 0. 0.]\n",
    "   [0. 0. 3. 0. 0.]\n",
    "   [0. 0. 0. 4. 0.]\n",
    "   [0. 0. 0. 0. 5.]]\n",
    "'''"
   ]
  },
  {
   "cell_type": "markdown",
   "metadata": {},
   "source": [
    "##### 批次賦值 \n",
    "如果遇到「多個項目同時賦值」的狀況，只要透過 NumPy 就不需要再使用大量的迴圈去層層賦值，下面的例子會一次將第一列 ( row ) 的 2、3、4 個項目的內容換成 100。"
   ]
  },
  {
   "cell_type": "code",
   "execution_count": null,
   "metadata": {},
   "outputs": [],
   "source": [
    "import numpy as np\n",
    "a = np.zeros((3,5))\n",
    "a[0,[2,3,4]]] = 100\n",
    "print(a)\n",
    "'''\n",
    "  [[  0.   0. 100. 100. 100.]\n",
    "   [  0.   0.   0.   0.   0.]\n",
    "   [  0.   0.   0.   0.   0.]]\n",
    "'''"
   ]
  },
  {
   "cell_type": "markdown",
   "metadata": {},
   "source": [
    "將上面的程式碼換成下方「串列切片 slice」的寫法，會得到同樣的結果。"
   ]
  },
  {
   "cell_type": "code",
   "execution_count": null,
   "metadata": {},
   "outputs": [],
   "source": [
    "import numpy as np\n",
    "a = np.zeros((3,5))\n",
    "a[0,2:5] = 100\n",
    "print(a)\n",
    "'''\n",
    "  [[  0.   0. 100. 100. 100.]\n",
    "   [  0.   0.   0.   0.   0.]\n",
    "   [  0.   0.   0.   0.   0.]]\n",
    "'''"
   ]
  },
  {
   "cell_type": "markdown",
   "metadata": {},
   "source": [
    "延伸同樣的原理，下方的程式碼使用了兩個串列切片，就能在 10x10 陣列裡，將中間 6x6 的項目內容都替換為 1。"
   ]
  },
  {
   "cell_type": "code",
   "execution_count": null,
   "metadata": {},
   "outputs": [],
   "source": [
    "import numpy as np\n",
    "a = np.zeros((10,10))\n",
    "a[2:8,2:8] = 1\n",
    "print(a)\n",
    "'''\n",
    "  [[0. 0. 0. 0. 0. 0. 0. 0. 0. 0.]\n",
    "   [0. 0. 0. 0. 0. 0. 0. 0. 0. 0.]\n",
    "   [0. 0. 1. 1. 1. 1. 1. 1. 0. 0.]\n",
    "   [0. 0. 1. 1. 1. 1. 1. 1. 0. 0.]\n",
    "   [0. 0. 1. 1. 1. 1. 1. 1. 0. 0.]\n",
    "   [0. 0. 1. 1. 1. 1. 1. 1. 0. 0.]\n",
    "   [0. 0. 1. 1. 1. 1. 1. 1. 0. 0.]\n",
    "   [0. 0. 1. 1. 1. 1. 1. 1. 0. 0.]\n",
    "   [0. 0. 0. 0. 0. 0. 0. 0. 0. 0.]\n",
    "   [0. 0. 0. 0. 0. 0. 0. 0. 0. 0.]]\n",
    "'''"
   ]
  },
  {
   "cell_type": "markdown",
   "metadata": {},
   "source": [
    "##### 小結 \n",
    "透過 NumPy 函式庫，能夠很快速的針對陣列中某個範圍的項目進行賦值，大幅減少迴圈的使用，提高程式碼撰寫的效率以及增加程式碼的可讀性。"
   ]
  }
 ],
 "metadata": {
  "language_info": {
   "name": "python"
  }
 },
 "nbformat": 4,
 "nbformat_minor": 2
}
