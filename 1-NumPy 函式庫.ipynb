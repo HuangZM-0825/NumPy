{
 "cells": [
  {
   "cell_type": "markdown",
   "metadata": {},
   "source": [
    "##### NumPy 函式庫\n",
    "NumPy 是 Python 的一個第三方函式庫，不僅支援大量維度的陣列與矩陣運算，也具備大量的數學與統計函式函式庫，可以很有效的進行科學運算和資料數據分析，\\\n",
    "此外，Python 的許多知名套件，如 Pandas、SciPy、Sympy、Matplotlib、TensorFlow...等，幾乎都是架構在 Numpy 基礎上做應用，因此 NumPy 是非常重要的函式庫。"
   ]
  },
  {
   "cell_type": "markdown",
   "metadata": {},
   "source": [
    "##### NumPy 的特色 \n",
    "* 使用「陣列」代替 Python 原生的「串列」( 列表 ) 來處理資料 ( 由於 NumPy 底層使用 C 語言運算，因此運算速度非常快 )。\n",
    "* 適合處理「多維度」資料。\n",
    "* 方便結合 Python 其他的擴充函式庫，如 Pandas、SciPy、Matplotlib...等。\n",
    "* NumPy 與 MATLAB 同樣是利用 BLAS 與 LAPACK 來提供高效率的線性代數運算。"
   ]
  },
  {
   "cell_type": "markdown",
   "metadata": {},
   "source": [
    "##### 安裝 NumPy 函式庫 \n",
    "如果是使用 Colab 或 Anaconda，預設已經安裝了 requests 函式庫，不用額外安裝，如果是本機環境，輸入下列指令，\\\n",
    "就能安裝 NumPy 函式庫 ( 依據每個人的作業環境不同，可使用 pip 或 pip3 或 pipenv )。\n",
    "* pip install numpy"
   ]
  },
  {
   "cell_type": "markdown",
   "metadata": {},
   "source": [
    "##### import numpy \n",
    "要使用 NumPy 必須先 import numpy 模組，實際使用時，很常將 numpy 命名為 np。"
   ]
  },
  {
   "cell_type": "code",
   "execution_count": null,
   "metadata": {
    "vscode": {
     "languageId": "plaintext"
    }
   },
   "outputs": [],
   "source": [
    "import numpy as np"
   ]
  },
  {
   "cell_type": "markdown",
   "metadata": {},
   "source": [
    "##### 簡單感受一下 NumPy \n",
    "透過下列兩個簡單的程式，感受一下 NumPy 的功能，更多其他的 NumPy 教學，請點選左側選單閱讀。\n",
    "\n",
    "第一個例子，將一個 Python 原生的串列轉換成 NumPy 陣列，輸出後可以看到 NumPy 陣列的項目中間沒有逗號分隔。"
   ]
  },
  {
   "cell_type": "code",
   "execution_count": null,
   "metadata": {
    "vscode": {
     "languageId": "plaintext"
    }
   },
   "outputs": [],
   "source": [
    "import numpy as np\n",
    "arr = np.array([1, 2, 3, 4, 5])\n",
    "print(arr)    # [1 2 3 4 5]"
   ]
  },
  {
   "cell_type": "markdown",
   "metadata": {},
   "source": [
    "第二個例子，透過 NumPy 的 reshape 方法，能將原本的串列轉換成一個 row 4 x column 3 的二維陣列。"
   ]
  },
  {
   "cell_type": "code",
   "execution_count": null,
   "metadata": {
    "vscode": {
     "languageId": "plaintext"
    }
   },
   "outputs": [],
   "source": [
    "import numpy as np\n",
    "arr = np.array([1, 2, 3, 4, 5, 6, 7, 8, 9, 10, 11, 12])\n",
    "newarr = arr.reshape(4, 3)\n",
    "print(newarr)\n",
    "'''\n",
    "[[ 1  2  3]\n",
    "[ 4  5  6]\n",
    "[ 7  8  9]\n",
    "[10 11 12]]\n",
    "'''"
   ]
  }
 ],
 "metadata": {
  "language_info": {
   "name": "python"
  }
 },
 "nbformat": 4,
 "nbformat_minor": 2
}
